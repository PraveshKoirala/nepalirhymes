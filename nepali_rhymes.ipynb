{
 "cells": [
  {
   "cell_type": "markdown",
   "metadata": {},
   "source": [
    "### Nepali Rhymes\n",
    "\n",
    "So, there aren't any web applications out there for finding rhyming words in Nepali. Let's attempt to create one here. Required stuffs:\n",
    "\n",
    "- nepali word list (scraped this from somewhere, don't ask where)\n",
    "- a wee bit knowledge of python and unicode\n",
    "- a bored programmer\n",
    "\n",
    "Since we have each of the required ingredients, we can begin."
   ]
  },
  {
   "cell_type": "code",
   "execution_count": 5,
   "metadata": {
    "collapsed": false
   },
   "outputs": [
    {
     "name": "stdout",
     "output_type": "stream",
     "text": [
      "अन्तरका\n",
      "नरहरि\n",
      "मालिकले\n",
      "अर्थराजनीति\n",
      "पूर्वाधारतिर\n"
     ]
    }
   ],
   "source": [
    "# read word list\n",
    "import codecs\n",
    "from __future__ import print_function, unicode_literals\n",
    "\n",
    "words = codecs.open(\"word_list.txt\", \"r\", \"utf-8\").read()\n",
    "words = words.split(\"\\n\")\n",
    "\n",
    "#sample words\n",
    "_ = map (print, words[0:5])"
   ]
  },
  {
   "cell_type": "code",
   "execution_count": 6,
   "metadata": {
    "collapsed": true
   },
   "outputs": [],
   "source": [
    "# Take input here\n",
    "input_word = \"पानी\""
   ]
  },
  {
   "cell_type": "markdown",
   "metadata": {},
   "source": [
    "**Algorithm**\n",
    "\n",
    "The algo is relatively simple. Find the longest suffix that matches! There! Simple right? Right???"
   ]
  },
  {
   "cell_type": "code",
   "execution_count": 17,
   "metadata": {
    "collapsed": false
   },
   "outputs": [
    {
     "name": "stdout",
     "output_type": "stream",
     "text": [
      "-------- Rhymes of suffix length 2 --------\n",
      "थाल्नी\n",
      "सोल्टिनी\n",
      "ताहाननी\n",
      "फ्र्याङ्कोलोनी\n",
      "हाडनोर्नी\n",
      "-------- Rhymes of suffix length 3 --------\n",
      "अफगानिस्तानी\n",
      "खानेबानी\n",
      "बलिदानी\n",
      "निसानी\n",
      "आडवानी\n",
      "-------- Rhymes of suffix length 4 --------\n",
      "नयाँपानी\n",
      "चिसापानी\n",
      "खिरेपानी\n",
      "रोगटेपानी\n",
      "बिजुलीपानी\n"
     ]
    }
   ],
   "source": [
    "from collections import defaultdict\n",
    "\n",
    "def get_rhymes(smallest, largest, input_word, words):\n",
    "    rhymes = defaultdict(set)\n",
    "    for i in range(smallest, largest+1):\n",
    "        match = input_word[-i:]\n",
    "        for w in words:\n",
    "            if match == w[-i:]:\n",
    "                rhymes[i].add(w)\n",
    "        \n",
    "        # the idea is.. if it is already in a bigger list, remove it from the smaller list (no redundancy)\n",
    "        rhymes[i-1] = rhymes[i-1] - rhymes[i]\n",
    "    return rhymes\n",
    "\n",
    "smallest = 2  # minimum two morphemes should match\n",
    "largest = len(input_word)\n",
    "\n",
    "rhymes = get_rhymes(smallest, largest, input_word, words)\n",
    "\n",
    "# print some of the words:\n",
    "for i in range(smallest, largest+1):\n",
    "    print (\"-------- Rhymes of suffix length %d --------\" % i)\n",
    "    map(print, list(rhymes[i])[:5])\n",
    "    "
   ]
  },
  {
   "cell_type": "markdown",
   "metadata": {},
   "source": [
    "Now we are done... or not! There are a little hiccups here or there. Consider these two words.\n",
    "- नालि\n",
    "- खाली\n",
    "\n",
    "Now, even a kid can tell you that the two words rhyme. However, our program won't be able to find it, because of the different vowels which actually sound the same (blame Sanskrit). To solve this small hiccup, we'll have to sacrifice grammar a bit which isn't really a problem for most of the time."
   ]
  },
  {
   "cell_type": "code",
   "execution_count": 15,
   "metadata": {
    "collapsed": true
   },
   "outputs": [],
   "source": [
    "# A simple morphological transformation function... we used the same in sambidhaan.dastabez.com\n",
    "\n",
    "def morphological_transform(np):\n",
    "    \"\"\"\n",
    "    Nepali words are incosistent..\n",
    "\n",
    "    there are hraswas and the dirghas.. different sa, bindu and ma root.\n",
    "    \n",
    "    \"\"\"\n",
    "\n",
    "    # change all dirghas to raswas\n",
    "    np = np.replace(u'ी', u'ि').replace(u'ू', u'ु').replace('ई', 'इ').replace('ऊ', 'उ')\n",
    "\n",
    "    # change all sa to the same\n",
    "    np = np.replace('श', 'स').replace('ष', 'स')\n",
    "\n",
    "    # change bindu to ma root\n",
    "    np = np.replace(u'ं', 'म्')\n",
    "\n",
    "    # change sanskrit characters\n",
    "    np = np.replace('ञ्', 'न्').replace('ण्', 'न्').replace('ऋ', 'रि')\n",
    "\n",
    "    # other possible morphological transforms that I am not aware of yet..\n",
    "    return np"
   ]
  },
  {
   "cell_type": "markdown",
   "metadata": {},
   "source": [
    "Now, we'll use this function to transform our input as well as the word list."
   ]
  },
  {
   "cell_type": "code",
   "execution_count": 11,
   "metadata": {
    "collapsed": false
   },
   "outputs": [
    {
     "name": "stdout",
     "output_type": "stream",
     "text": [
      "अन्तरका\n",
      "नरहरि\n",
      "मालिकले\n",
      "अर्थराजनिति\n",
      "पुर्वाधारतिर\n"
     ]
    }
   ],
   "source": [
    "new_words = map(morphological_transform, words)\n",
    "new_input_word = morphological_transform(input_word)\n",
    "\n",
    "_ = map(print, new_words[:5])"
   ]
  },
  {
   "cell_type": "code",
   "execution_count": 16,
   "metadata": {
    "collapsed": false
   },
   "outputs": [
    {
     "name": "stdout",
     "output_type": "stream",
     "text": [
      "Word:  पानी\n",
      "-------- Rhymes of suffix length 2 --------\n",
      "धुसेनि\n",
      "नाकापनि\n",
      "लेखिदिनुपनि\n",
      "चलाएपनि\n",
      "गजनि\n",
      "-------- Rhymes of suffix length 3 --------\n",
      "जवानि\n",
      "राजामहारानि\n",
      "मानिमानि\n",
      "जेठमलानि\n",
      "कृतिमानि\n",
      "-------- Rhymes of suffix length 4 --------\n",
      "ढुकुरपानि\n",
      "पानि\n",
      "नरपानि\n",
      "रानिपानि\n",
      "सिम्पानि\n"
     ]
    }
   ],
   "source": [
    "# Done! Now we use the same function to get a richer results!\n",
    "\n",
    "rhymes = get_rhymes(smallest, largest, new_input_word, new_words)\n",
    "print (\"Word: \", input_word)\n",
    "# print some of the words:\n",
    "for i in range(smallest, largest+1):\n",
    "    print (\"-------- Rhymes of suffix length %d --------\" % i)\n",
    "    map(print, list(rhymes[i])[:5])\n",
    "    "
   ]
  },
  {
   "cell_type": "markdown",
   "metadata": {},
   "source": [
    "## Conclusion\n",
    "\n",
    "See how the output are all hraswas and not a single dirgha is in sight? Normally, this is good enough for song writing which is the primary application of this script. Won't work in \"chandas\" though (chandas are rule based poetry which are uber strict in grammatical structure). \n",
    "\n",
    "Where do you go from here? There are several improvements that can be done:\n",
    "\n",
    "- Understanding commonly used words and suggesting those before rare words.\n",
    "- Displaying the words in their correct grammar (by using a table perhaps?)\n",
    "- Expanding the word lists.\n",
    "- Upgrading the rhyming algorithm (हुक्का and सुस्का have prefix length 3 despite of the lesser degree of rhyming. The accidental ् is to blame for this)\n",
    "\n",
    "Did you find this script useful? Well you're in luck! **This whole thing is MIT licensed**. Have fun tweaking and using it (for making a web application perhaps.. mail me if you do)."
   ]
  }
 ],
 "metadata": {
  "kernelspec": {
   "display_name": "Python 2",
   "language": "python",
   "name": "python2"
  },
  "language_info": {
   "codemirror_mode": {
    "name": "ipython",
    "version": 2
   },
   "file_extension": ".py",
   "mimetype": "text/x-python",
   "name": "python",
   "nbconvert_exporter": "python",
   "pygments_lexer": "ipython2",
   "version": "2.7.6"
  }
 },
 "nbformat": 4,
 "nbformat_minor": 0
}
